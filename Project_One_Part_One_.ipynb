{
  "nbformat": 4,
  "nbformat_minor": 0,
  "metadata": {
    "colab": {
      "provenance": [],
      "authorship_tag": "ABX9TyPXjIYksc2g1QubWgEJexPg",
      "include_colab_link": true
    },
    "kernelspec": {
      "name": "python3",
      "display_name": "Python 3"
    },
    "language_info": {
      "name": "python"
    }
  },
  "cells": [
    {
      "cell_type": "markdown",
      "metadata": {
        "id": "view-in-github",
        "colab_type": "text"
      },
      "source": [
        "<a href=\"https://colab.research.google.com/github/nathfcastro/Project-One---Part-One-/blob/main/Project_One_Part_One_.ipynb\" target=\"_parent\"><img src=\"https://colab.research.google.com/assets/colab-badge.svg\" alt=\"Open In Colab\"/></a>"
      ]
    },
    {
      "cell_type": "markdown",
      "source": [
        "# Project One - Part One \n"
      ],
      "metadata": {
        "id": "jWyhKCOq3rZc"
      }
    },
    {
      "cell_type": "markdown",
      "source": [
        "Student Name: Nathalie Castro"
      ],
      "metadata": {
        "id": "DnBgE5wi4IB5"
      }
    },
    {
      "cell_type": "code",
      "source": [],
      "metadata": {
        "id": "CMdbFxby3wCZ"
      },
      "execution_count": null,
      "outputs": []
    },
    {
      "cell_type": "markdown",
      "source": [
        "## Loading Data"
      ],
      "metadata": {
        "id": "7OtipWy_3wZh"
      }
    },
    {
      "cell_type": "code",
      "source": [],
      "metadata": {
        "id": "XnvxORmB3yzO"
      },
      "execution_count": null,
      "outputs": []
    },
    {
      "cell_type": "markdown",
      "source": [
        "## Data Cleaning "
      ],
      "metadata": {
        "id": "IJYk1yy63zB1"
      }
    },
    {
      "cell_type": "code",
      "source": [],
      "metadata": {
        "id": "LLUwPjBP31UM"
      },
      "execution_count": null,
      "outputs": []
    },
    {
      "cell_type": "markdown",
      "source": [
        "## Exploratory Visuals "
      ],
      "metadata": {
        "id": "AHcfordp31hH"
      }
    },
    {
      "cell_type": "code",
      "source": [],
      "metadata": {
        "id": "UhCT5XQ331zl"
      },
      "execution_count": null,
      "outputs": []
    },
    {
      "cell_type": "markdown",
      "source": [
        "## Explanatory Visuals"
      ],
      "metadata": {
        "id": "Yu_Qbtsy319U"
      }
    },
    {
      "cell_type": "code",
      "source": [],
      "metadata": {
        "id": "4BgNpmcn380q"
      },
      "execution_count": null,
      "outputs": []
    }
  ]
}