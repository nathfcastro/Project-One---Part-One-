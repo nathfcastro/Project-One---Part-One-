{
  "nbformat": 4,
  "nbformat_minor": 0,
  "metadata": {
    "colab": {
      "provenance": [],
      "authorship_tag": "ABX9TyNM6EMgbZKafAzdHa5dG4Oh",
      "include_colab_link": true
    },
    "kernelspec": {
      "name": "python3",
      "display_name": "Python 3"
    },
    "language_info": {
      "name": "python"
    }
  },
  "cells": [
    {
      "cell_type": "markdown",
      "metadata": {
        "id": "view-in-github",
        "colab_type": "text"
      },
      "source": [
        "<a href=\"https://colab.research.google.com/github/nathfcastro/Project-One---Part-One-/blob/main/Project_One_Part_Three.ipynb\" target=\"_parent\"><img src=\"https://colab.research.google.com/assets/colab-badge.svg\" alt=\"Open In Colab\"/></a>"
      ]
    },
    {
      "cell_type": "code",
      "execution_count": null,
      "metadata": {
        "id": "lGI9SBY0OTpR"
      },
      "outputs": [],
      "source": [
        "import pandas as pd \n",
        "filename = '/content/sales_predictions.csv'\n",
        "sale_df = pd.read_csv(filename)"
      ]
    },
    {
      "cell_type": "markdown",
      "source": [
        "# Project One - Part Two \n",
        "Student Name: Nathalie Castro"
      ],
      "metadata": {
        "id": "C1J3bzxU0X_0"
      }
    },
    {
      "cell_type": "markdown",
      "source": [
        "# Loading Data"
      ],
      "metadata": {
        "id": "K6yInSvG0V3c"
      }
    },
    {
      "cell_type": "code",
      "source": [
        "sale_df.head()"
      ],
      "metadata": {
        "id": "lJL-Il_30IQx"
      },
      "execution_count": null,
      "outputs": []
    },
    {
      "cell_type": "code",
      "source": [
        "sale_df.info()"
      ],
      "metadata": {
        "id": "97_fdkmz0L6s"
      },
      "execution_count": null,
      "outputs": []
    },
    {
      "cell_type": "markdown",
      "source": [
        "# Data Cleaning "
      ],
      "metadata": {
        "id": "BjrBEe2x0jSI"
      }
    },
    {
      "cell_type": "markdown",
      "source": [
        "### 1) How many rows and columns?"
      ],
      "metadata": {
        "id": "zYQtSvCH0odL"
      }
    },
    {
      "cell_type": "code",
      "source": [
        "sale_df.shape"
      ],
      "metadata": {
        "id": "8S7MVc-D0rDK"
      },
      "execution_count": null,
      "outputs": []
    },
    {
      "cell_type": "code",
      "source": [
        "# There are 8, 523 Rows and 12 columns"
      ],
      "metadata": {
        "id": "gKXhTJnR08Lp"
      },
      "execution_count": null,
      "outputs": []
    },
    {
      "cell_type": "markdown",
      "source": [
        "### 2) What are the datatypes of each variable?"
      ],
      "metadata": {
        "id": "7occVL0R1kAy"
      }
    },
    {
      "cell_type": "code",
      "source": [
        "sale_df.dtypes"
      ],
      "metadata": {
        "id": "gOaxolqz1FDy"
      },
      "execution_count": null,
      "outputs": []
    },
    {
      "cell_type": "markdown",
      "source": [
        "### 3) Are there duplicates? If so, drop any duplicates."
      ],
      "metadata": {
        "id": "z5xbdqsD1n6p"
      }
    },
    {
      "cell_type": "code",
      "source": [
        "sale_df.duplicated().sum()"
      ],
      "metadata": {
        "id": "LTBuGh2j1pyg"
      },
      "execution_count": null,
      "outputs": []
    },
    {
      "cell_type": "markdown",
      "source": [
        "### 4) Identify missing values."
      ],
      "metadata": {
        "id": "DY0a1b7m2P1r"
      }
    },
    {
      "cell_type": "code",
      "source": [
        "sale_df.isna().sum()"
      ],
      "metadata": {
        "id": "5ySNuhdM2Q57"
      },
      "execution_count": null,
      "outputs": []
    },
    {
      "cell_type": "markdown",
      "source": [
        "### 5) Decide on how to address the missing values and do it! (This requires your judgement, so explain your choice)."
      ],
      "metadata": {
        "id": "tKKh_o_92gaX"
      }
    },
    {
      "cell_type": "code",
      "source": [
        "sale_df['Item_Weight'].value_counts()"
      ],
      "metadata": {
        "id": "d5eulTQp8e49"
      },
      "execution_count": null,
      "outputs": []
    },
    {
      "cell_type": "code",
      "source": [
        "sale_df['Item_Weight'].mean()"
      ],
      "metadata": {
        "id": "FlC5-ZpQCA_F"
      },
      "execution_count": null,
      "outputs": []
    },
    {
      "cell_type": "code",
      "source": [
        "sale_df['Item_Weight'] = sale_df['Item_Weight'].fillna(value = '12.86')"
      ],
      "metadata": {
        "id": "mjhzXKsx9R5x"
      },
      "execution_count": null,
      "outputs": []
    },
    {
      "cell_type": "code",
      "source": [
        "sale_df['Item_Weight'].value_counts()"
      ],
      "metadata": {
        "id": "sy0NMTI99kFe"
      },
      "execution_count": null,
      "outputs": []
    },
    {
      "cell_type": "code",
      "source": [
        "sale_df['Outlet_Size'] = sale_df['Outlet_Size'].fillna(value ='Unknown')"
      ],
      "metadata": {
        "id": "PA__piSFGdZD"
      },
      "execution_count": null,
      "outputs": []
    },
    {
      "cell_type": "code",
      "source": [
        "sale_df['Outlet_Size'].value_counts()"
      ],
      "metadata": {
        "id": "kmVPJMhw-AZa"
      },
      "execution_count": null,
      "outputs": []
    },
    {
      "cell_type": "code",
      "source": [
        "sale_df['Outlet_Size'] = sale_df['Outlet_Size'].fillna(value = 'Unknown')"
      ],
      "metadata": {
        "id": "MnioxEB8-I2t"
      },
      "execution_count": null,
      "outputs": []
    },
    {
      "cell_type": "code",
      "source": [
        "sale_df['Outlet_Size'].value_counts()"
      ],
      "metadata": {
        "id": "zah8uvv0-OHf"
      },
      "execution_count": null,
      "outputs": []
    },
    {
      "cell_type": "markdown",
      "source": [
        "I wanted to fill the missing data rather than dropping the row nor the column. This is easier because we can identify which values are unknown and which we have data on. "
      ],
      "metadata": {
        "id": "Nctdc54V-YfX"
      }
    },
    {
      "cell_type": "markdown",
      "source": [
        "### 6) Confirm that there are no missing values after addressing them."
      ],
      "metadata": {
        "id": "R7BoAtxg4NXW"
      }
    },
    {
      "cell_type": "code",
      "source": [
        "sale_df.isna().sum()"
      ],
      "metadata": {
        "id": "O4x2fLpp8JLB"
      },
      "execution_count": null,
      "outputs": []
    },
    {
      "cell_type": "markdown",
      "source": [
        "### 7) Find and fix any inconsistent categories of data (example: fix cat, Cat, and cats so that they are consistent)."
      ],
      "metadata": {
        "id": "uWrl4qwZ4P4L"
      }
    },
    {
      "cell_type": "code",
      "source": [
        "sale_df.info()"
      ],
      "metadata": {
        "id": "w0ZYCA1R5Uhi"
      },
      "execution_count": null,
      "outputs": []
    },
    {
      "cell_type": "code",
      "source": [
        "sale_df['Item_Fat_Content'].value_counts()"
      ],
      "metadata": {
        "id": "2t9PP4pfX8cJ"
      },
      "execution_count": null,
      "outputs": []
    },
    {
      "cell_type": "code",
      "source": [
        "sale_df['Item_Fat_Content'] = sale_df['Item_Fat_Content'].replace('low fat', 'Low Fat')\n",
        "sale_df['Item_Fat_Content'].value_counts()"
      ],
      "metadata": {
        "id": "bLXtahcJaFYB"
      },
      "execution_count": null,
      "outputs": []
    },
    {
      "cell_type": "code",
      "source": [
        "sale_df['Item_Fat_Content'] = sale_df['Item_Fat_Content'].replace('reg', 'Regular')\n",
        "sale_df['Item_Fat_Content'].value_counts()"
      ],
      "metadata": {
        "id": "2XB0OsXdGODh"
      },
      "execution_count": null,
      "outputs": []
    },
    {
      "cell_type": "markdown",
      "source": [
        "### 8) For any numerical columns, obtain the summary statistics of each (min, max, mean)."
      ],
      "metadata": {
        "id": "PhlSjbkQ5jRd"
      }
    },
    {
      "cell_type": "code",
      "source": [
        "sale_df.describe()"
      ],
      "metadata": {
        "id": "mxqzcq8YGTTp"
      },
      "execution_count": null,
      "outputs": []
    },
    {
      "cell_type": "markdown",
      "source": [
        "# Exploratory Visuals"
      ],
      "metadata": {
        "id": "gxB3yxlBS7gv"
      }
    },
    {
      "cell_type": "markdown",
      "source": [
        "### Histogram to view the distributions of various features in your dataset."
      ],
      "metadata": {
        "id": "2QVILnm8TYmy"
      }
    },
    {
      "cell_type": "code",
      "source": [
        "sale_df.info()"
      ],
      "metadata": {
        "colab": {
          "base_uri": "https://localhost:8080/"
        },
        "id": "I-Qz_SW4TR0H",
        "outputId": "19b975b8-0ef8-41a2-e030-b58abe222330"
      },
      "execution_count": 32,
      "outputs": [
        {
          "output_type": "stream",
          "name": "stdout",
          "text": [
            "<class 'pandas.core.frame.DataFrame'>\n",
            "RangeIndex: 8523 entries, 0 to 8522\n",
            "Data columns (total 12 columns):\n",
            " #   Column                     Non-Null Count  Dtype  \n",
            "---  ------                     --------------  -----  \n",
            " 0   Item_Identifier            8523 non-null   object \n",
            " 1   Item_Weight                8523 non-null   object \n",
            " 2   Item_Fat_Content           8523 non-null   object \n",
            " 3   Item_Visibility            8523 non-null   float64\n",
            " 4   Item_Type                  8523 non-null   object \n",
            " 5   Item_MRP                   8523 non-null   float64\n",
            " 6   Outlet_Identifier          8523 non-null   object \n",
            " 7   Outlet_Establishment_Year  8523 non-null   int64  \n",
            " 8   Outlet_Size                8523 non-null   object \n",
            " 9   Outlet_Location_Type       8523 non-null   object \n",
            " 10  Outlet_Type                8523 non-null   object \n",
            " 11  Item_Outlet_Sales          8523 non-null   float64\n",
            "dtypes: float64(3), int64(1), object(8)\n",
            "memory usage: 799.2+ KB\n"
          ]
        }
      ]
    },
    {
      "cell_type": "code",
      "source": [
        "import matplotlib.pyplot as plt\n",
        "import seaborn as sns\n",
        "import pandas as pd\n",
        "import numpy as np"
      ],
      "metadata": {
        "id": "Thn2KX0WYUH3"
      },
      "execution_count": 31,
      "outputs": []
    },
    {
      "cell_type": "code",
      "source": [
        "sale_df['Item_Outlet_Sales'].hist()\n",
        "plt.ticklabel_format(useOffset=False, style='plain');"
      ],
      "metadata": {
        "colab": {
          "base_uri": "https://localhost:8080/",
          "height": 265
        },
        "id": "J8g1duxMZxCY",
        "outputId": "1c1fe7af-ddd6-4a78-cd30-69c4d187e8fb"
      },
      "execution_count": 56,
      "outputs": [
        {
          "output_type": "display_data",
          "data": {
            "text/plain": [
              "<Figure size 432x288 with 1 Axes>"
            ],
            "image/png": "[encoded data removed]"
          },
          "metadata": {
            "needs_background": "light"
          }
        }
      ]
    },
    {
      "cell_type": "code",
      "source": [
        "sale_df.boxplot(['Item_Outlet_Sales'],\n",
        "           by ='Outlet_Size',\n",
        "           figsize=(15,10),\n",
        "           fontsize=12,\n",
        "           rot=90,\n",
        "           grid=False);"
      ],
      "metadata": {
        "id": "7HigLCCcZ1CI",
        "colab": {
          "base_uri": "https://localhost:8080/",
          "height": 761
        },
        "outputId": "3a7636c2-f4a3-4e7c-b08b-b2d6a95e55bb"
      },
      "execution_count": 57,
      "outputs": [
        {
          "output_type": "stream",
          "name": "stderr",
          "text": [
            "/usr/local/lib/python3.8/dist-packages/matplotlib/cbook/__init__.py:1376: VisibleDeprecationWarning: Creating an ndarray from ragged nested sequences (which is a list-or-tuple of lists-or-tuples-or ndarrays with different lengths or shapes) is deprecated. If you meant to do this, you must specify 'dtype=object' when creating the ndarray.\n",
            "  X = np.atleast_1d(X.T if isinstance(X, np.ndarray) else np.asarray(X))\n"
          ]
        },
        {
          "output_type": "display_data",
          "data": {
            "text/plain": [
              "<Figure size 1080x720 with 1 Axes>"
            ],
            "image/png": "[encoded data removed]"
          },
          "metadata": {
            "needs_background": "light"
          }
        }
      ]
    },
    {
      "cell_type": "code",
      "source": [
        "import pandas as pd\n",
        "df = pd.read_csv('/content/sales_predictions.csv')\n",
        "corr = df.corr"
      ],
      "metadata": {
        "id": "VrDrvLiPchB2"
      },
      "execution_count": 58,
      "outputs": []
    },
    {
      "cell_type": "code",
      "source": [
        "import seaborn as sns \n",
        "sns.heatmap(corr, cmap = 'Reds');"
      ],
      "metadata": {
        "colab": {
          "base_uri": "https://localhost:8080/",
          "height": 392
        },
        "id": "6k792shml_PQ",
        "outputId": "103610e5-aef7-48c0-ec40-5e36ded30012"
      },
      "execution_count": 54,
      "outputs": [
        {
          "output_type": "display_data",
          "data": {
            "text/plain": [
              "<Figure size 432x288 with 2 Axes>"
            ],
            "image/png": "[encoded data removed]"
          },
          "metadata": {
            "needs_background": "light"
          }
        }
      ]
    }
  ]
}